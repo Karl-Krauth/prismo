{
 "cells": [
  {
   "cell_type": "code",
   "execution_count": 3,
   "id": "f064d239-3eaa-4f7a-ad7b-e7934abfa1d8",
   "metadata": {},
   "outputs": [
    {
     "name": "stdout",
     "output_type": "stream",
     "text": [
      "The autoreload extension is already loaded. To reload it, use:\n",
      "  %reload_ext autoreload\n"
     ]
    }
   ],
   "source": [
    "%load_ext autoreload\n",
    "%autoreload 2\n",
    "import control\n",
    "import napari"
   ]
  },
  {
   "cell_type": "code",
   "execution_count": 2,
   "id": "ca9dd0a9-a818-4021-bed3-34a50dc80dbd",
   "metadata": {},
   "outputs": [],
   "source": [
    "config = {\n",
    "    \"camera\": {\n",
    "        \"device\": \"zyla_camera\"\n",
    "    },\n",
    "    \"objective\": {\n",
    "        \"device\": \"ti_objective\",\n",
    "        \"states\": [\"a\", \"b\", \"c\", \"d\", \"e\", \"f\"]\n",
    "    },\n",
    "    \"light\": {\n",
    "        \"device\": \"sola_light\",\n",
    "        \"port\": \"COM4\"\n",
    "    },\n",
    "    \"up_filter\": {\n",
    "        \"device\": \"ti_filter1\"\n",
    "    },\n",
    "    \"down_filter\": {\n",
    "        \"device\": \"ti_filter1\"\n",
    "    },\n",
    "    \"stage\": {\n",
    "        \"device\": \"asi_stage\",\n",
    "        \"port\": \"COM5\"\n",
    "    },\n",
    "    \"focus\": {\n",
    "        \"device\": \"ti_focus\"\n",
    "    },\n",
    "    \"lightpath\": {\n",
    "        \"device\": \"ti_lightpath\"\n",
    "    },\n",
    "    \"uv_filter\": {\n",
    "        \"device\": \"lambda_filter1\",\n",
    "        \"port\": \"COM3\"\n",
    "    },\n",
    "    \"right_filter\": {\n",
    "        \"device\": \"lambda_filter2\",\n",
    "        \"port\": \"COM3\"\n",
    "    },\n",
    "    \"laser\": {\n",
    "        \"device\": \"lambda_shutter1\",\n",
    "        \"port\": \"COM3\"\n",
    "    },\n",
    "    \"uv_shutter\": {\n",
    "        \"device\": \"lambda_shutter2\",\n",
    "        \"port\": \"COM3\"\n",
    "    },\n",
    "}\n",
    "c = control.load(config)"
   ]
  },
  {
   "cell_type": "code",
   "execution_count": 3,
   "id": "eeb9380a-7a28-4d88-b566-5720ebd4114f",
   "metadata": {},
   "outputs": [],
   "source": []
  },
  {
   "cell_type": "code",
   "execution_count": null,
   "id": "aae954b3-e200-49ec-9233-2c759c82ec9d",
   "metadata": {},
   "outputs": [],
   "source": []
  }
 ],
 "metadata": {
  "kernelspec": {
   "display_name": "Python 3 (ipykernel)",
   "language": "python",
   "name": "python3"
  },
  "language_info": {
   "codemirror_mode": {
    "name": "ipython",
    "version": 3
   },
   "file_extension": ".py",
   "mimetype": "text/x-python",
   "name": "python",
   "nbconvert_exporter": "python",
   "pygments_lexer": "ipython3",
   "version": "3.10.13"
  }
 },
 "nbformat": 4,
 "nbformat_minor": 5
}
