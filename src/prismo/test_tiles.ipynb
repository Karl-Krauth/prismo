{
 "cells": [
  {
   "cell_type": "markdown",
   "id": "44573ad2-8bd6-4b6b-9da1-3967987d31bc",
   "metadata": {},
   "source": [
    "## Microscope Setup"
   ]
  },
  {
   "cell_type": "code",
   "execution_count": 1,
   "id": "ca9dd0a9-a818-4021-bed3-34a50dc80dbd",
   "metadata": {},
   "outputs": [
    {
     "ename": "RuntimeError",
     "evalue": "Error in device \"COM3\": Unknown error in the device (1)",
     "output_type": "error",
     "traceback": [
      "\u001b[1;31m---------------------------------------------------------------------------\u001b[0m",
      "\u001b[1;31mRuntimeError\u001b[0m                              Traceback (most recent call last)",
      "Cell \u001b[1;32mIn[1], line 57\u001b[0m\n\u001b[0;32m     11\u001b[0m s \u001b[38;5;241m=\u001b[39m \u001b[38;5;124m\"\"\"\u001b[39m\n\u001b[0;32m     12\u001b[0m \u001b[38;5;124m[camera]\u001b[39m\n\u001b[0;32m     13\u001b[0m \u001b[38;5;124mdevice = \u001b[39m\u001b[38;5;124m\"\u001b[39m\u001b[38;5;124mzyla_camera\u001b[39m\u001b[38;5;124m\"\u001b[39m\n\u001b[1;32m   (...)\u001b[0m\n\u001b[0;32m     54\u001b[0m \u001b[38;5;124mport = \u001b[39m\u001b[38;5;124m\"\u001b[39m\u001b[38;5;124mCOM3\u001b[39m\u001b[38;5;124m\"\u001b[39m\n\u001b[0;32m     55\u001b[0m \u001b[38;5;124m\"\"\"\u001b[39m\n\u001b[0;32m     56\u001b[0m conf \u001b[38;5;241m=\u001b[39m toml\u001b[38;5;241m.\u001b[39mloads(s)\n\u001b[1;32m---> 57\u001b[0m c \u001b[38;5;241m=\u001b[39m \u001b[43mcontrol\u001b[49m\u001b[38;5;241;43m.\u001b[39;49m\u001b[43mload\u001b[49m\u001b[43m(\u001b[49m\u001b[43mconf\u001b[49m\u001b[43m,\u001b[49m\u001b[43m \u001b[49m\u001b[43mpath\u001b[49m\u001b[38;5;241;43m=\u001b[39;49m\u001b[38;5;124;43m\"\u001b[39;49m\u001b[38;5;124;43mC:/Program Files/Micro-Manager-2.0\u001b[39;49m\u001b[38;5;124;43m\"\u001b[39;49m\u001b[43m)\u001b[49m\n\u001b[0;32m     58\u001b[0m c\u001b[38;5;241m.\u001b[39m_core\u001b[38;5;241m.\u001b[39msetTimeoutMs(\u001b[38;5;241m100000\u001b[39m)\n\u001b[0;32m     59\u001b[0m c\u001b[38;5;241m.\u001b[39mexposure \u001b[38;5;241m=\u001b[39m \u001b[38;5;241m100\u001b[39m\n",
      "File \u001b[1;32m~\\repos\\prismo\\src\\prismo\\control.py:65\u001b[0m, in \u001b[0;36mload\u001b[1;34m(config, path)\u001b[0m\n\u001b[0;32m     63\u001b[0m         params\u001b[38;5;241m.\u001b[39mupdate(config[port])\n\u001b[0;32m     64\u001b[0m     set_props(port, params)\n\u001b[1;32m---> 65\u001b[0m     \u001b[43mcore\u001b[49m\u001b[38;5;241;43m.\u001b[39;49m\u001b[43minitializeDevice\u001b[49m\u001b[43m(\u001b[49m\u001b[43mport\u001b[49m\u001b[43m)\u001b[49m\n\u001b[0;32m     67\u001b[0m \u001b[38;5;28;01mfor\u001b[39;00m name, params \u001b[38;5;129;01min\u001b[39;00m config\u001b[38;5;241m.\u001b[39mitems():\n\u001b[0;32m     68\u001b[0m     \u001b[38;5;28;01mif\u001b[39;00m name \u001b[38;5;129;01min\u001b[39;00m ports:\n",
      "\u001b[1;31mRuntimeError\u001b[0m: Error in device \"COM3\": Unknown error in the device (1)"
     ]
    }
   ],
   "source": [
    "%load_ext autoreload\n",
    "%autoreload 2\n",
    "from napari.qt.threading import thread_worker\n",
    "import control\n",
    "import napari\n",
    "import gui\n",
    "import time\n",
    "import numpy as np\n",
    "import toml\n",
    "\n",
    "s = \"\"\"\n",
    "[camera]\n",
    "device = \"zyla_camera\"\n",
    "\n",
    "[objective]\n",
    "device = \"ti_objective\"\n",
    "states = [\"blank1\", \"4x\", \"blank2\", \"blank3\", \"10x\", \"blank4\"]\n",
    "zooms =  [0, 4, 0, 0, 10, 0]\n",
    "\n",
    "[light]\n",
    "device = \"sola_light\"\n",
    "port = \"COM4\"\n",
    "\n",
    "[up_filter]\n",
    "device = \"ti_filter1\"\n",
    "states = [\"mcherry\", \"egfp\", \"open1\", \"cy5\", \"brightfield\", \"open2\"]\n",
    "\n",
    "[down_filter]\n",
    "device = \"ti_filter2\"\n",
    "\n",
    "[stage]\n",
    "device = \"asi_stage\"\n",
    "port = \"COM5\"\n",
    "\n",
    "[focus]\n",
    "device = \"ti_focus\"\n",
    "\n",
    "[right_filter]\n",
    "device = \"lambda_filter2\"\n",
    "port = \"COM3\"\n",
    "states =  [\"open\", \"435\", \"474\", \"536\", \"546\", \"572\", \"620\", \"630\", \"650\", \"780\"]\n",
    "\n",
    "[uv_filter]\n",
    "device = \"lambda_filter1\"\n",
    "port = \"COM3\"\n",
    "states = [\"uv\", \"open1\", \"?\", \"315nm\", \"??\", \"340nm\", \"???\", \"open2\", \"????\", \"brightfield\"]\n",
    "\n",
    "[uv]\n",
    "device = \"lambda_shutter1\"\n",
    "port = \"COM3\"\n",
    "\n",
    "[ir]\n",
    "device = \"lambda_shutter2\"\n",
    "port = \"COM3\"\n",
    "\"\"\"\n",
    "conf = toml.loads(s)\n",
    "c = control.load(conf, path=\"C:/Program Files/Micro-Manager-2.0\")\n",
    "c._core.setTimeoutMs(100000)\n",
    "c.exposure = 100\n",
    "c.objective = \"4x\"\n",
    "c.z = 5000\n",
    "c.binning = 2\n",
    "c._core.setProperty(\"camera\", \"TriggerMode\", \"Software (Recommended for Live Mode)\")"
   ]
  },
  {
   "cell_type": "markdown",
   "id": "eca218ff-f1d0-47cc-a9d4-e456bcd9aa2a",
   "metadata": {},
   "source": [
    "## Tiled Acquisition"
   ]
  },
  {
   "cell_type": "code",
   "execution_count": 2,
   "id": "e75fd215-79ae-46cc-9f39-419e16ff272d",
   "metadata": {},
   "outputs": [],
   "source": [
    "c.uv = \"open\"\n",
    "c.uv_filter = \"uv\"\n",
    "c.up_filter = \"brightfield\"\n",
    "c.light = 0\n",
    "c.right_filter = \"620\"\n",
    "c.exposure = 100\n",
    "\n",
    "s = \"\"\"\n",
    "file = \"C:/Users/setup1/Documents/Caroline/20240216/Hyb_041_20240216p2\"\n",
    "\n",
    "overlap = 0.1\n",
    "\n",
    "[default]\n",
    "up_filter = \"open2\"\n",
    "down_filter = 0\n",
    "right_filter = \"open\"\n",
    "light = 0\n",
    "uv = \"closed\"\n",
    "uv_filter = \"uv\"\n",
    "exposure = 1000\n",
    "\n",
    "[channels]\n",
    "[channels.cy5]\n",
    "light = 100\n",
    "up_filter = \"cy5\"\n",
    "\n",
    "[channels.435]\n",
    "uv = \"open\"\n",
    "right_filter = \"435\"\n",
    "\n",
    "[channels.474]\n",
    "uv = \"open\"\n",
    "right_filter = \"474\"\n",
    "\n",
    "[channels.536]\n",
    "uv = \"open\"\n",
    "right_filter = \"536\"\n",
    "\n",
    "[channels.546]\n",
    "uv = \"open\"\n",
    "right_filter = \"546\"\n",
    "\n",
    "[channels.572]\n",
    "uv = \"open\"\n",
    "right_filter = \"572\"\n",
    "\n",
    "[channels.620]\n",
    "uv = \"open\"\n",
    "right_filter = \"620\"\n",
    "\n",
    "[channels.630]\n",
    "uv = \"open\"\n",
    "right_filter = \"630\"\n",
    "\n",
    "[channels.650]\n",
    "uv = \"open\"\n",
    "right_filter = \"650\"\n",
    "\n",
    "[channels.780]\n",
    "uv = \"open\"\n",
    "right_filter = \"780\"\n",
    "\"\"\"\n",
    "conf = toml.loads(s)\n",
    "\n",
    "set_coordinates = False\n",
    "if set_coordinates:\n",
    "    gui.acquire(c, **conf)\n",
    "else:\n",
    "    gui.acquire(c, top_left=(4448.1, -5895.0), bot_right=(12192.7, 1664.3), **conf)"
   ]
  },
  {
   "cell_type": "markdown",
   "id": "d67e3f1b-1961-4399-bbfb-eb60053c18d2",
   "metadata": {},
   "source": [
    "## Live Imaging"
   ]
  },
  {
   "cell_type": "code",
   "execution_count": 4,
   "id": "3d395c92-7422-490e-8cad-f24865411c42",
   "metadata": {},
   "outputs": [
    {
     "name": "stderr",
     "output_type": "stream",
     "text": [
      "WARNING: Traceback (most recent call last):\n",
      "  File \"C:\\Users\\setup1\\miniforge3\\lib\\runpy.py\", line 196, in _run_module_as_main\n",
      "    return _run_code(code, main_globals, None,\n",
      "  File \"C:\\Users\\setup1\\miniforge3\\lib\\runpy.py\", line 86, in _run_code\n",
      "    exec(code, run_globals)\n",
      "  File \"C:\\Users\\setup1\\miniforge3\\lib\\site-packages\\ipykernel_launcher.py\", line 17, in <module>\n",
      "    app.launch_new_instance()\n",
      "  File \"C:\\Users\\setup1\\miniforge3\\lib\\site-packages\\traitlets\\config\\application.py\", line 1075, in launch_instance\n",
      "    app.start()\n",
      "  File \"C:\\Users\\setup1\\miniforge3\\lib\\site-packages\\ipykernel\\kernelapp.py\", line 739, in start\n",
      "    self.io_loop.start()\n",
      "  File \"C:\\Users\\setup1\\miniforge3\\lib\\site-packages\\tornado\\platform\\asyncio.py\", line 195, in start\n",
      "    self.asyncio_loop.run_forever()\n",
      "  File \"C:\\Users\\setup1\\miniforge3\\lib\\asyncio\\base_events.py\", line 603, in run_forever\n",
      "    self._run_once()\n",
      "  File \"C:\\Users\\setup1\\miniforge3\\lib\\asyncio\\base_events.py\", line 1909, in _run_once\n",
      "    handle._run()\n",
      "  File \"C:\\Users\\setup1\\miniforge3\\lib\\asyncio\\events.py\", line 80, in _run\n",
      "    self._context.run(self._callback, *self._args)\n",
      "  File \"C:\\Users\\setup1\\miniforge3\\lib\\site-packages\\tornado\\ioloop.py\", line 738, in _run_callback\n",
      "    ret = callback()\n",
      "  File \"C:\\Users\\setup1\\miniforge3\\lib\\site-packages\\ipykernel\\kernelbase.py\", line 487, in advance_eventloop\n",
      "    eventloop(self)\n",
      "  File \"C:\\Users\\setup1\\miniforge3\\lib\\site-packages\\ipykernel\\eventloops.py\", line 128, in loop_qt\n",
      "    el.exec() if hasattr(el, \"exec\") else el.exec_()\n",
      "  File \"C:\\Users\\setup1\\repos\\prismo\\src\\prismo\\gui.py\", line 32, in update_img\n",
      "    viewer.layers[0].data = img\n",
      "  File \"C:\\Users\\setup1\\miniforge3\\lib\\site-packages\\napari\\layers\\image\\image.py\", line 473, in data\n",
      "    self._update_dims()\n",
      "  File \"C:\\Users\\setup1\\miniforge3\\lib\\site-packages\\napari\\layers\\base\\base.py\", line 760, in _update_dims\n",
      "    self._clear_extent()\n",
      "  File \"C:\\Users\\setup1\\miniforge3\\lib\\site-packages\\napari\\layers\\base\\base.py\", line 821, in _clear_extent\n",
      "    self.refresh()\n",
      "  File \"C:\\Users\\setup1\\miniforge3\\lib\\site-packages\\napari\\layers\\base\\base.py\", line 1265, in refresh\n",
      "    self.events.set_data()\n",
      "  File \"C:\\Users\\setup1\\miniforge3\\lib\\site-packages\\napari\\utils\\events\\event.py\", line 768, in __call__\n",
      "    self._invoke_callback(cb, event if pass_event else None)\n",
      "  File \"C:\\Users\\setup1\\miniforge3\\lib\\site-packages\\napari\\utils\\events\\event.py\", line 795, in _invoke_callback\n",
      "    cb()\n",
      "  File \"C:\\Users\\setup1\\miniforge3\\lib\\site-packages\\napari\\_vispy\\overlays\\bounding_box.py\", line 28, in _on_bounds_change\n",
      "    self.node.set_bounds(bounds[::-1])\n",
      "  File \"C:\\Users\\setup1\\miniforge3\\lib\\site-packages\\napari\\_vispy\\visuals\\bounding_box.py\", line 98, in set_bounds\n",
      "    self._set_bounds_2d(vertices)\n",
      "  File \"C:\\Users\\setup1\\miniforge3\\lib\\site-packages\\napari\\_vispy\\visuals\\bounding_box.py\", line 59, in _set_bounds_2d\n",
      "    self.line2d.set_data(pos=vertices, connect=edges)\n",
      "  File \"C:\\Users\\setup1\\miniforge3\\lib\\site-packages\\vispy\\visuals\\line\\line.py\", line 189, in set_data\n",
      "    self.update()\n",
      "  File \"C:\\Users\\setup1\\miniforge3\\lib\\site-packages\\vispy\\scene\\node.py\", line 329, in update\n",
      "    self.events.update()\n",
      "  File \"C:\\Users\\setup1\\miniforge3\\lib\\site-packages\\vispy\\util\\event.py\", line 453, in __call__\n",
      "    self._invoke_callback(cb, event)\n",
      "  File \"C:\\Users\\setup1\\miniforge3\\lib\\site-packages\\vispy\\util\\event.py\", line 471, in _invoke_callback\n",
      "    _handle_exception(self.ignore_callback_errors,\n",
      "  << caught exception here: >>\n",
      "  File \"C:\\Users\\setup1\\miniforge3\\lib\\site-packages\\vispy\\util\\event.py\", line 469, in _invoke_callback\n",
      "    cb(event)\n",
      "  File \"C:\\Users\\setup1\\miniforge3\\lib\\site-packages\\vispy\\visuals\\visual.py\", line 589, in _subv_update\n",
      "    self.update()\n",
      "  File \"C:\\Users\\setup1\\miniforge3\\lib\\site-packages\\vispy\\scene\\node.py\", line 332, in update\n",
      "    c.update(node=self)\n",
      "  File \"C:\\Users\\setup1\\miniforge3\\lib\\site-packages\\vispy\\scene\\canvas.py\", line 201, in update\n",
      "    super(SceneCanvas, self).update()\n",
      "  File \"C:\\Users\\setup1\\miniforge3\\lib\\site-packages\\vispy\\app\\canvas.py\", line 448, in update\n",
      "    self._backend._vispy_update()\n",
      "  File \"C:\\Users\\setup1\\miniforge3\\lib\\site-packages\\vispy\\app\\backends\\_qt.py\", line 486, in _vispy_update\n",
      "    self.update()\n",
      "RuntimeError: wrapped C/C++ object of type CanvasBackendDesktop has been deleted\n",
      "ERROR: Invoking <bound method CompoundVisual._subv_update of <BoundingBox at 0x1d8e62cbca0>> for Event\n"
     ]
    }
   ],
   "source": [
    "c.uv = \"open\"\n",
    "c.uv_filter = \"uv\"\n",
    "c.up_filter = \"brightfield\"\n",
    "c.light = 0\n",
    "c.right_filter = \"620\"\n",
    "c.exposure = 100\n",
    "viewer, worker = gui.live(c)"
   ]
  },
  {
   "cell_type": "markdown",
   "id": "e628e883-c8dd-4354-aa2e-1e667b875eaf",
   "metadata": {},
   "source": [
    "## Run this once live imaging is done."
   ]
  },
  {
   "cell_type": "code",
   "execution_count": 5,
   "id": "8bcd5d4f-795a-41bb-bbc9-22798eeb80e6",
   "metadata": {
    "scrolled": true
   },
   "outputs": [],
   "source": [
    "worker.quit()\n",
    "c.uv = \"closed\""
   ]
  },
  {
   "cell_type": "code",
   "execution_count": 30,
   "id": "d2556fa8-4f3d-429f-9172-af609586c4f6",
   "metadata": {},
   "outputs": [
    {
     "data": {
      "text/plain": [
       "'-0.4400'"
      ]
     },
     "execution_count": 30,
     "metadata": {},
     "output_type": "execute_result"
    }
   ],
   "source": [
    "c._core.getProperty(\"camera\", \"SensorTemperature\")"
   ]
  },
  {
   "cell_type": "code",
   "execution_count": 29,
   "id": "e9a595d9-3e5c-4f11-87f5-bfd41b274ce4",
   "metadata": {},
   "outputs": [
    {
     "ename": "KeyboardInterrupt",
     "evalue": "",
     "output_type": "error",
     "traceback": [
      "\u001b[1;31m---------------------------------------------------------------------------\u001b[0m",
      "\u001b[1;31mKeyboardInterrupt\u001b[0m                         Traceback (most recent call last)",
      "Cell \u001b[1;32mIn[29], line 2\u001b[0m\n\u001b[0;32m      1\u001b[0m \u001b[38;5;28;01mwhile\u001b[39;00m \u001b[38;5;28;01mTrue\u001b[39;00m:\n\u001b[1;32m----> 2\u001b[0m     \u001b[43mc\u001b[49m\u001b[38;5;241;43m.\u001b[39;49m\u001b[43msnap\u001b[49m\u001b[43m(\u001b[49m\u001b[43m)\u001b[49m\n",
      "File \u001b[1;32m~\\repos\\prismo\\src\\prismo\\control.py:251\u001b[0m, in \u001b[0;36mControl.snap\u001b[1;34m(self)\u001b[0m\n\u001b[0;32m    250\u001b[0m \u001b[38;5;28;01mdef\u001b[39;00m \u001b[38;5;21msnap\u001b[39m(\u001b[38;5;28mself\u001b[39m):\n\u001b[1;32m--> 251\u001b[0m     \u001b[38;5;28;01mreturn\u001b[39;00m \u001b[38;5;28;43mself\u001b[39;49m\u001b[38;5;241;43m.\u001b[39;49m\u001b[43m_camera\u001b[49m\u001b[38;5;241;43m.\u001b[39;49m\u001b[43msnap\u001b[49m\u001b[43m(\u001b[49m\u001b[43m)\u001b[49m\n",
      "File \u001b[1;32m~\\repos\\prismo\\src\\prismo\\control.py:354\u001b[0m, in \u001b[0;36mCamera.snap\u001b[1;34m(self)\u001b[0m\n\u001b[0;32m    352\u001b[0m \u001b[38;5;28;01mdef\u001b[39;00m \u001b[38;5;21msnap\u001b[39m(\u001b[38;5;28mself\u001b[39m):\n\u001b[0;32m    353\u001b[0m     \u001b[38;5;28mself\u001b[39m\u001b[38;5;241m.\u001b[39m_core\u001b[38;5;241m.\u001b[39msetCameraDevice(\u001b[38;5;28mself\u001b[39m\u001b[38;5;241m.\u001b[39mname)\n\u001b[1;32m--> 354\u001b[0m     \u001b[38;5;28;43mself\u001b[39;49m\u001b[38;5;241;43m.\u001b[39;49m\u001b[43m_core\u001b[49m\u001b[38;5;241;43m.\u001b[39;49m\u001b[43msnapImage\u001b[49m\u001b[43m(\u001b[49m\u001b[43m)\u001b[49m\n\u001b[0;32m    355\u001b[0m     \u001b[38;5;28;01mreturn\u001b[39;00m np\u001b[38;5;241m.\u001b[39mflipud(\u001b[38;5;28mself\u001b[39m\u001b[38;5;241m.\u001b[39m_core\u001b[38;5;241m.\u001b[39mgetImage())\n",
      "\u001b[1;31mKeyboardInterrupt\u001b[0m: "
     ]
    }
   ],
   "source": [
    "while True:\n",
    "    c.snap()"
   ]
  },
  {
   "cell_type": "code",
   "execution_count": 19,
   "id": "f63eb033-0def-405a-a6a1-33f0563f8b14",
   "metadata": {},
   "outputs": [],
   "source": [
    "c.exposure = 100"
   ]
  },
  {
   "cell_type": "code",
   "execution_count": 3,
   "id": "9429d809-4ee3-4f40-a7c9-b1ae8ddd7ea3",
   "metadata": {},
   "outputs": [],
   "source": [
    "c.uv = \"closed\""
   ]
  },
  {
   "cell_type": "code",
   "execution_count": 13,
   "id": "8deba654-f16d-40e6-8823-644ae084ca3e",
   "metadata": {},
   "outputs": [],
   "source": [
    "c.right_filter = \"open\""
   ]
  },
  {
   "cell_type": "code",
   "execution_count": null,
   "id": "a55770ca-5138-44e2-b54b-b8e567831051",
   "metadata": {},
   "outputs": [],
   "source": [
    "\""
   ]
  }
 ],
 "metadata": {
  "kernelspec": {
   "display_name": "Python 3 (ipykernel)",
   "language": "python",
   "name": "python3"
  },
  "language_info": {
   "codemirror_mode": {
    "name": "ipython",
    "version": 3
   },
   "file_extension": ".py",
   "mimetype": "text/x-python",
   "name": "python",
   "nbconvert_exporter": "python",
   "pygments_lexer": "ipython3",
   "version": "3.10.13"
  }
 },
 "nbformat": 4,
 "nbformat_minor": 5
}
