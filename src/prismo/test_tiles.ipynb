{
 "cells": [
  {
   "cell_type": "code",
   "execution_count": 1,
   "id": "f064d239-3eaa-4f7a-ad7b-e7934abfa1d8",
   "metadata": {},
   "outputs": [],
   "source": [
    "%load_ext autoreload\n",
    "%autoreload 2\n",
    "from napari.qt.threading import thread_worker\n",
    "import control\n",
    "import napari\n",
    "import gui\n",
    "import time\n",
    "import numpy as np"
   ]
  },
  {
   "cell_type": "code",
   "execution_count": 2,
   "id": "ca9dd0a9-a818-4021-bed3-34a50dc80dbd",
   "metadata": {},
   "outputs": [],
   "source": [
    "config = {\n",
    "    \"valves\": {\n",
    "        \"ip\": \"192.168.1.2\",\n",
    "        \"device\": \"wago_valves\"\n",
    "    },\n",
    "    \"mux\": {\n",
    "        \"device\": \"mux\",\n",
    "        \"mapping\": {\n",
    "            \"0_0\": 47,\n",
    "            \"0_1\": 46,\n",
    "            \"1_0\": 45,\n",
    "            \"1_1\": 44,\n",
    "            \"2_0\": 43,\n",
    "            \"2_1\": 42,\n",
    "            \"3_0\": 41,\n",
    "            \"3_1\": 40,\n",
    "            \"waste\": 37,\n",
    "            \"io\": 36,\n",
    "        }\n",
    "    },\n",
    "    \"mc\": {\n",
    "        \"device\": \"minichip\",\n",
    "        \"mapping\": {\n",
    "            \"0_0\": 0,\n",
    "            \"0_1\": 1,\n",
    "            \"1_0\": 2,\n",
    "            \"1_1\": 3,\n",
    "            \"2_0\": 4,\n",
    "            \"2_1\": 5,\n",
    "            \"buttons\": 34,\n",
    "            \"sandwiches\": 35,\n",
    "        }\n",
    "    },\n",
    "    \"camera\": {\n",
    "        \"device\": \"zyla_camera\"\n",
    "    },\n",
    "    \"objective\": {\n",
    "        \"device\": \"ti2_objective\",\n",
    "        \"states\": [\"a\", \"b\", \"c\", \"d\", \"e\", \"f\"]\n",
    "    },\n",
    "    \"light\": {\n",
    "        \"device\": \"sola_light\",\n",
    "        \"port\": \"COM3\"\n",
    "    },\n",
    "    \"up_filter\": {\n",
    "        \"device\": \"ti2_filter1\",\n",
    "        \"states\": [\"mcherry\", \"egfp\", \"open1\", \"cy5\", \"brightfield\", \"open2\"]\n",
    "    },\n",
    "    \"down_filter\": {\n",
    "        \"device\": \"ti2_filter2\"\n",
    "    },\n",
    "    \"stage\": {\n",
    "        \"device\": \"asi_stage\",\n",
    "        \"port\": \"COM4\"\n",
    "    },\n",
    "    \"focus\": {\n",
    "        \"device\": \"ti2_focus\"\n",
    "    },\n",
    "    \"lightpath\": {\n",
    "        \"device\": \"ti2_lightpath\"\n",
    "    },\n",
    "}\n",
    "c = control.load(config, path=\"C:/Users/karlk/Micro-Manager-2.0\")\n",
    "c._core.setTimeoutMs(100000)\n",
    "c._core.setCameraDevice(\"camera\")\n",
    "c.exposure = 100"
   ]
  },
  {
   "cell_type": "code",
   "execution_count": 12,
   "id": "bd11ddce-66c7-4b43-b964-263a4c8b5918",
   "metadata": {},
   "outputs": [],
   "source": [
    "c.valves[28] = \"on\"\n",
    "time.sleep(1)\n",
    "c.valves[28] = \"off\""
   ]
  },
  {
   "cell_type": "code",
   "execution_count": 89,
   "id": "8771597d-c86d-4d90-8651-cdf285406671",
   "metadata": {},
   "outputs": [],
   "source": [
    "for i in range(24, 32):\n",
    "    c.valves[i] = \"off\""
   ]
  },
  {
   "cell_type": "code",
   "execution_count": 84,
   "id": "d11cca46-6390-49d0-b278-d8a178004e73",
   "metadata": {},
   "outputs": [],
   "source": [
    "c.mc.snw = \"open\""
   ]
  },
  {
   "cell_type": "code",
   "execution_count": 92,
   "id": "ffbb518f-b2fa-4164-a63d-f56210f8711e",
   "metadata": {},
   "outputs": [],
   "source": [
    "c.mc.btn = \"open\""
   ]
  },
  {
   "cell_type": "code",
   "execution_count": 91,
   "id": "4c44d5b3-1e42-4400-ae2d-6dbc7773ec90",
   "metadata": {},
   "outputs": [],
   "source": [
    "c.mc.snw = \"open\""
   ]
  },
  {
   "cell_type": "code",
   "execution_count": 70,
   "id": "893c11d7-c6b5-44f0-89d8-f636067ce7ac",
   "metadata": {},
   "outputs": [
    {
     "name": "stdout",
     "output_type": "stream",
     "text": [
      "[1 0 0 1]\n",
      "[0 1 1 0]\n"
     ]
    }
   ],
   "source": [
    "c.mux = 0"
   ]
  },
  {
   "cell_type": "code",
   "execution_count": 65,
   "id": "8abd5ee5-4295-47c4-ae74-3fc418afcac7",
   "metadata": {},
   "outputs": [],
   "source": [
    "c.light = 0"
   ]
  },
  {
   "cell_type": "code",
   "execution_count": 20,
   "id": "7bc05d85-8346-4f56-ba1f-9a5f48ca5d62",
   "metadata": {},
   "outputs": [],
   "source": [
    "c.wait()\n",
    "c.objective = 0"
   ]
  },
  {
   "cell_type": "code",
   "execution_count": 5,
   "id": "098789d4-6529-4a60-9a99-b26f3c0037ca",
   "metadata": {},
   "outputs": [],
   "source": [
    "c._core.setProperty(\"objective\", \"State\", \"4\")"
   ]
  },
  {
   "cell_type": "code",
   "execution_count": 28,
   "id": "0ac729e1-7074-4f01-ae3c-d20f4d531faa",
   "metadata": {},
   "outputs": [
    {
     "data": {
      "text/plain": [
       "'0'"
      ]
     },
     "execution_count": 28,
     "metadata": {},
     "output_type": "execute_result"
    }
   ],
   "source": [
    "c._core.getProperty(\"objective\", \"State\")"
   ]
  },
  {
   "cell_type": "code",
   "execution_count": 24,
   "id": "e83df2b3-c5c2-4489-8a18-aab9ceb67017",
   "metadata": {},
   "outputs": [
    {
     "data": {
      "text/plain": [
       "('0', '1', '2', '3', '4', '5')"
      ]
     },
     "execution_count": 24,
     "metadata": {},
     "output_type": "execute_result"
    }
   ],
   "source": [
    "c._core.getAllowedPropertyValues(\"objective\", \"State\")"
   ]
  },
  {
   "cell_type": "code",
   "execution_count": 6,
   "id": "1682c55c-10a7-4ddd-a0a5-ee3e079a103d",
   "metadata": {},
   "outputs": [
    {
     "data": {
      "text/plain": [
       "('Label', 'State')"
      ]
     },
     "execution_count": 6,
     "metadata": {},
     "output_type": "execute_result"
    }
   ],
   "source": [
    "c._core.getDevicePropertyNames(\"obj\")"
   ]
  },
  {
   "cell_type": "code",
   "execution_count": 21,
   "id": "bffa5192-e0cd-4584-89a9-035f879b4a3f",
   "metadata": {},
   "outputs": [
    {
     "name": "stdout",
     "output_type": "stream",
     "text": [
      "[0 0 0 0]\n",
      "[0 0 0 0]\n"
     ]
    }
   ],
   "source": [
    "c.mux = \"open\""
   ]
  },
  {
   "cell_type": "code",
   "execution_count": 21,
   "id": "25bc6ff5-3022-48c7-a426-5edaf0123cc0",
   "metadata": {},
   "outputs": [],
   "source": [
    "c._core.setProperty(\"objective\", \"Magnification\", \"1.5x\")"
   ]
  },
  {
   "cell_type": "code",
   "execution_count": 9,
   "id": "0a10fddb-b2a8-41f7-8441-664ff8e7b039",
   "metadata": {},
   "outputs": [
    {
     "data": {
      "text/plain": [
       "('ZDrive',\n",
       " 'Nosepiece',\n",
       " 'FilterTurret1',\n",
       " 'Turret1Shutter',\n",
       " 'FilterTurret2',\n",
       " 'Turret2Shutter',\n",
       " 'LightPath',\n",
       " 'IntermediateMagnification',\n",
       " 'DiaLamp')"
      ]
     },
     "execution_count": 9,
     "metadata": {},
     "output_type": "execute_result"
    }
   ],
   "source": [
    "c._core.getInstalledDevices(\"ti2_scope\")"
   ]
  },
  {
   "cell_type": "code",
   "execution_count": 7,
   "id": "b453790b-89d2-4259-82ea-33777d1aff95",
   "metadata": {},
   "outputs": [
    {
     "data": {
      "text/plain": [
       "('0', '1', '2', '3', '4', '5')"
      ]
     },
     "execution_count": 7,
     "metadata": {},
     "output_type": "execute_result"
    }
   ],
   "source": [
    "c._core.getAllowedPropertyValues(\"obj\", \"State\")\n"
   ]
  },
  {
   "cell_type": "code",
   "execution_count": 78,
   "id": "72d40ece-96e5-464e-91d4-48c674d57df2",
   "metadata": {},
   "outputs": [
    {
     "name": "stdout",
     "output_type": "stream",
     "text": [
      "[1 1 1 1]\n",
      "[0 0 0 0]\n"
     ]
    }
   ],
   "source": [
    "c.mux = \"closed\""
   ]
  },
  {
   "cell_type": "code",
   "execution_count": 10,
   "id": "7bea503b-7cba-4cce-8df5-f30e065d34c3",
   "metadata": {},
   "outputs": [],
   "source": [
    "c.mc.btn = \"open\""
   ]
  },
  {
   "cell_type": "code",
   "execution_count": 64,
   "id": "524cf7af-33e5-4215-8efc-e50f824d366e",
   "metadata": {},
   "outputs": [
    {
     "name": "stderr",
     "output_type": "stream",
     "text": [
      "sys:1: RuntimeWarning: RuntimeError in aborted thread: Error in device \"camera\":  Snap Image Failure (25)\n"
     ]
    }
   ],
   "source": [
    "c.uv_shutter = \"closed\""
   ]
  },
  {
   "cell_type": "code",
   "execution_count": 72,
   "id": "9d067a39-95e5-4212-936b-30a1130b5071",
   "metadata": {},
   "outputs": [
    {
     "name": "stdout",
     "output_type": "stream",
     "text": [
      "[1 1 1 1]\n",
      "[0 0 0 0]\n"
     ]
    }
   ],
   "source": [
    "c.mux = \"closed\""
   ]
  },
  {
   "cell_type": "code",
   "execution_count": 20,
   "id": "df438c87-92c8-4e92-95e4-5364acbd3b7f",
   "metadata": {},
   "outputs": [],
   "source": [
    "c.right_filter = \"620\""
   ]
  },
  {
   "cell_type": "code",
   "execution_count": 32,
   "id": "6d354108-e0a2-402d-bcc6-a903a1769444",
   "metadata": {},
   "outputs": [
    {
     "data": {
      "text/plain": [
       "array([[123, 108, 118, ..., 127, 139, 133],\n",
       "       [129, 131, 130, ..., 127, 139, 122],\n",
       "       [135, 120, 140, ..., 124, 131, 136],\n",
       "       ...,\n",
       "       [120, 145, 104, ..., 141, 131, 125],\n",
       "       [124, 141, 112, ..., 126, 125, 147],\n",
       "       [132, 132, 128, ..., 133, 110, 127]], dtype=uint16)"
      ]
     },
     "execution_count": 32,
     "metadata": {},
     "output_type": "execute_result"
    }
   ],
   "source": [
    "c.snap()"
   ]
  },
  {
   "cell_type": "code",
   "execution_count": 109,
   "id": "543eaf66-b065-44e2-9078-6e7022e4cf49",
   "metadata": {},
   "outputs": [
    {
     "name": "stdout",
     "output_type": "stream",
     "text": [
      "Error in device \"camera\":  Snap Image Failure (25)\n",
      "Error in device \"camera\":  Snap Image Failure (25)\n",
      "Error in device \"camera\":  Snap Image Failure (25)\n",
      "Error in device \"camera\":  Snap Image Failure (25)\n",
      "Error in device \"camera\":  Snap Image Failure (25)\n",
      "Error in device \"camera\":  Snap Image Failure (25)\n",
      "Error in device \"camera\":  Snap Image Failure (25)\n",
      "Error in device \"camera\":  Snap Image Failure (25)\n",
      "Error in device \"camera\":  Snap Image Failure (25)\n",
      "Error in device \"camera\":  Snap Image Failure (25)\n",
      "Error in device \"camera\":  Snap Image Failure (25)\n",
      "Error in device \"camera\":  Snap Image Failure (25)\n"
     ]
    }
   ],
   "source": [
    "# Want to have an easy way to specify exposures across channels\n",
    "c.exposure = 100"
   ]
  },
  {
   "cell_type": "code",
   "execution_count": 3,
   "id": "eeb9380a-7a28-4d88-b566-5720ebd4114f",
   "metadata": {},
   "outputs": [],
   "source": [
    "viewer, worker = gui.live(c)"
   ]
  },
  {
   "cell_type": "code",
   "execution_count": 8,
   "id": "e5b09910-1b67-4194-aebe-18dd7c02b9aa",
   "metadata": {},
   "outputs": [],
   "source": [
    "c.exposure = 100"
   ]
  },
  {
   "cell_type": "code",
   "execution_count": 121,
   "id": "340875dd-754c-4ee2-889d-841408681c17",
   "metadata": {},
   "outputs": [],
   "source": [
    "c.right_filter = \"open\"\n",
    "c.top_filter = \"open1\"\n",
    "c.laser = \"closed\"\n",
    "c.light = 0\n",
    "c.exposure = 10"
   ]
  },
  {
   "cell_type": "markdown",
   "id": "9f5cfdd0-5f41-42a1-b292-b2b093d18d65",
   "metadata": {},
   "source": [
    "## Tiling"
   ]
  },
  {
   "cell_type": "code",
   "execution_count": 48,
   "id": "e06dcb7b-0d30-40bf-9897-9e040f051e4a",
   "metadata": {},
   "outputs": [],
   "source": [
    "c.up_filter = \"cy5\""
   ]
  },
  {
   "cell_type": "code",
   "execution_count": 66,
   "id": "85cb60de-0890-4a27-be61-39960ba39248",
   "metadata": {},
   "outputs": [],
   "source": [
    "c.light = 100"
   ]
  },
  {
   "cell_type": "code",
   "execution_count": 120,
   "id": "57b06555-f61e-45be-a72c-881e70c38efc",
   "metadata": {},
   "outputs": [
    {
     "name": "stdout",
     "output_type": "stream",
     "text": [
      "Error in device \"camera\":  Snap Image Failure (25)\n",
      "Error in device \"camera\":  Snap Image Failure (25)\n",
      "Error in device \"camera\":  Snap Image Failure (25)\n",
      "Error in device \"camera\":  Snap Image Failure (25)\n",
      "Error in device \"camera\":  Snap Image Failure (25)\n",
      "Error in device \"camera\":  Snap Image Failure (25)\n",
      "Error in device \"camera\":  Snap Image Failure (25)\n",
      "Error in device \"camera\":  Snap Image Failure (25)\n"
     ]
    }
   ],
   "source": [
    "c.right_filter = \"620\"\n",
    "c.top_filter = \"open1\"\n",
    "c.laser = \"open\"\n",
    "c.light = 0\n",
    "c.exposure = 100"
   ]
  },
  {
   "cell_type": "code",
   "execution_count": 112,
   "id": "aae954b3-e200-49ec-9233-2c759c82ec9d",
   "metadata": {},
   "outputs": [],
   "source": [
    "top_left = c.xy"
   ]
  },
  {
   "cell_type": "code",
   "execution_count": 113,
   "id": "62db7cb8-238e-49bd-b295-d2c8dea501cc",
   "metadata": {},
   "outputs": [],
   "source": [
    "bottom_right = c.xy"
   ]
  },
  {
   "cell_type": "code",
   "execution_count": null,
   "id": "6d73f46e-639e-4fa9-8140-35ddccd7f9f6",
   "metadata": {},
   "outputs": [],
   "source": []
  },
  {
   "cell_type": "code",
   "execution_count": 60,
   "id": "f679db45-9294-4ff1-89cb-ae5c2fb9a463",
   "metadata": {},
   "outputs": [],
   "source": [
    "c.right_filter = \"open\""
   ]
  },
  {
   "cell_type": "code",
   "execution_count": 87,
   "id": "5e8b2ed6-1e05-434a-9818-6547e49cc4c0",
   "metadata": {},
   "outputs": [],
   "source": [
    "top_channels = [\"cy5\"]\n",
    "right_channels = [\"620\"]"
   ]
  },
  {
   "cell_type": "code",
   "execution_count": 96,
   "id": "75b7a7e7-adac-4109-9f72-d495f04313d6",
   "metadata": {},
   "outputs": [],
   "source": [
    "overlap_pixels = 100\n",
    "um_per_pixel = 1.6137\n",
    "img = c.snap()\n",
    "img_height_pixels = img.shape[0]\n",
    "img_width_pixels = img.shape[1]\n",
    "img_height_um = um_per_pixel * img.shape[0]\n",
    "img_width_um = um_per_pixel * img.shape[1]\n",
    "overlap_um = overlap_pixels * um_per_pixel\n",
    "delta_x = img_width_um - overlap_um\n",
    "delta_y = img_height_um - overlap_um\n",
    "xs = np.arange(top_left[0], bottom_right[0], delta_x)\n",
    "ys = np.arange(top_left[1], bottom_right[1], delta_y)\n",
    "\n",
    "canvas = np.zeros((len(top_channels) + len(right_channels),\n",
    "                (img_height_pixels - overlap_pixels) * len(ys) + overlap_pixels,\n",
    "                (img_width_pixels - overlap_pixels) * len(xs) + overlap_pixels), dtype=np.uint16)\n",
    "viewer, layers = napari.imshow(canvas, channel_axis=0, contrast_limits=[0, 65535], name=top_channels + right_channels)\n",
    "def update_canvas(d):\n",
    "    d, i, j, c = d[0], d[1], d[2], d[3]\n",
    "    row = i * (img_height_pixels - overlap_pixels)\n",
    "    col = j * (img_width_pixels - overlap_pixels)\n",
    "    viewer.layers[c].data[row:row + img_height_pixels, col:col + img_width_pixels] = d\n",
    "    viewer.layers[c].refresh()\n",
    "\n",
    "@thread_worker(connect={\"yielded\": update_canvas})\n",
    "def tile_images():\n",
    "    c.uv_filter = \"uv\"\n",
    "    for i, y in enumerate(ys):\n",
    "        for j, x in enumerate(xs):\n",
    "            c.xy = (x, y)\n",
    "            c._core.waitForDevice(\"stage\")\n",
    "            c.right_filter = \"open\"\n",
    "            c.laser = \"closed\"\n",
    "            c.light = 100\n",
    "            c.exposure = 1000\n",
    "            time.sleep(3)\n",
    "            for channel in top_channels:\n",
    "                c.up_filter = channel\n",
    "                time.sleep(1)\n",
    "                yield (c.snap(), i, j, channel)\n",
    "                c._core.waitForDevice(\"camera\")\n",
    "                time.sleep(1)\n",
    "\n",
    "            c.up_filter = \"open1\"\n",
    "            c.laser = \"open\"\n",
    "            c.exposure = 1000\n",
    "            c.light = 0\n",
    "            for channel in right_channels:\n",
    "                c.right_filter = channel\n",
    "                time.sleep(1)\n",
    "                yield (c.snap(), i, j, channel)\n",
    "                c._core.waitForDevice(\"camera\")\n",
    "                time.sleep(1)\n",
    "            time.sleep(1)"
   ]
  },
  {
   "cell_type": "code",
   "execution_count": 97,
   "id": "05ed226c-47a2-4656-9787-5d2e62c22935",
   "metadata": {},
   "outputs": [],
   "source": [
    "worker2 = tile_images()"
   ]
  },
  {
   "cell_type": "code",
   "execution_count": 19,
   "id": "0040ea4e-9be7-4bfa-9234-1cd38cb7aed9",
   "metadata": {},
   "outputs": [],
   "source": [
    "worker2.quit()"
   ]
  },
  {
   "cell_type": "code",
   "execution_count": 18,
   "id": "b6433c05-4806-40e7-8097-61dae4dac9a3",
   "metadata": {},
   "outputs": [
    {
     "name": "stdout",
     "output_type": "stream",
     "text": [
      "Error in device \"camera\":  Snap Image Failure (25)\n",
      "Error in device \"camera\":  Snap Image Failure (25)\n",
      "Error in device \"camera\":  Snap Image Failure (25)\n",
      "Error in device \"camera\":  Snap Image Failure (25)\n",
      "Error in device \"camera\":  Snap Image Failure (25)\n",
      "Error in device \"camera\":  Snap Image Failure (25)\n",
      "Error in device \"camera\":  Snap Image Failure (25)\n",
      "Error in device \"camera\":  Snap Image Failure (25)\n",
      "Error in device \"camera\":  Snap Image Failure (25)\n",
      "Error in device \"camera\":  Snap Image Failure (25)\n",
      "Error in device \"camera\":  Snap Image Failure (25)\n",
      "Error in device \"camera\":  Snap Image Failure (25)\n",
      "Error in device \"camera\":  Snap Image Failure (25)\n",
      "Error in device \"camera\":  Snap Image Failure (25)\n",
      "Error in device \"camera\":  Snap Image Failure (25)\n",
      "Error in device \"camera\":  Snap Image Failure (25)\n",
      "Error in device \"camera\":  Snap Image Failure (25)\n",
      "Error in device \"camera\":  Snap Image Failure (25)\n",
      "Error in device \"camera\":  Snap Image Failure (25)\n",
      "Error in device \"camera\":  Snap Image Failure (25)\n",
      "Error in device \"camera\":  Snap Image Failure (25)\n",
      "Error in device \"camera\":  Snap Image Failure (25)\n",
      "Error in device \"camera\":  Snap Image Failure (25)\n",
      "Error in device \"camera\":  Snap Image Failure (25)\n",
      "Error in device \"camera\":  Snap Image Failure (25)\n",
      "Error in device \"camera\":  Snap Image Failure (25)\n",
      "Error in device \"camera\":  Snap Image Failure (25)\n",
      "Error in device \"camera\":  Snap Image Failure (25)\n",
      "Error in device \"camera\":  Snap Image Failure (25)\n",
      "Error in device \"camera\":  Snap Image Failure (25)\n",
      "Error in device \"camera\":  Snap Image Failure (25)\n",
      "Error in device \"camera\":  Snap Image Failure (25)\n",
      "Error in device \"camera\":  Snap Image Failure (25)\n",
      "Error in device \"camera\":  Snap Image Failure (25)\n",
      "Error in device \"camera\":  Snap Image Failure (25)\n",
      "Error in device \"camera\":  Snap Image Failure (25)\n",
      "Error in device \"camera\":  Snap Image Failure (25)\n",
      "Error in device \"camera\":  Snap Image Failure (25)\n",
      "Error in device \"camera\":  Snap Image Failure (25)\n",
      "Error in device \"camera\":  Snap Image Failure (25)\n",
      "Error in device \"camera\":  Snap Image Failure (25)\n",
      "Error in device \"camera\":  Snap Image Failure (25)\n",
      "Error in device \"camera\":  Snap Image Failure (25)\n",
      "Error in device \"camera\":  Snap Image Failure (25)\n"
     ]
    }
   ],
   "source": [
    "c.devices[0].wait()"
   ]
  },
  {
   "cell_type": "code",
   "execution_count": 104,
   "id": "5f25620c-b133-49c2-ab45-19af40d14438",
   "metadata": {},
   "outputs": [],
   "source": [
    "c.laser = \"closed\""
   ]
  },
  {
   "cell_type": "code",
   "execution_count": 4,
   "id": "b796e34e-8ce3-4c9f-a3e7-4911b63c618b",
   "metadata": {},
   "outputs": [],
   "source": [
    "c.z = 5000"
   ]
  },
  {
   "cell_type": "code",
   "execution_count": 11,
   "id": "47574a9c-c3da-473c-b402-5e7ca8940aa7",
   "metadata": {},
   "outputs": [],
   "source": [
    "c.light = 0"
   ]
  },
  {
   "cell_type": "code",
   "execution_count": 3,
   "id": "ac77a419-8216-4e8f-9afd-4fd9739f2a3a",
   "metadata": {},
   "outputs": [
    {
     "data": {
      "text/plain": [
       "3.0048"
      ]
     },
     "execution_count": 3,
     "metadata": {},
     "output_type": "execute_result"
    }
   ],
   "source": [
    "c.exposure"
   ]
  },
  {
   "cell_type": "code",
   "execution_count": 20,
   "id": "cb2c3e4b-b8e0-4214-8b4d-f61604b820fa",
   "metadata": {},
   "outputs": [],
   "source": [
    "c.valves[47] = \"open\""
   ]
  },
  {
   "cell_type": "code",
   "execution_count": 11,
   "id": "2d4f0bee-5a1b-4912-888a-ed6b1b713540",
   "metadata": {},
   "outputs": [],
   "source": [
    "c.close()"
   ]
  },
  {
   "cell_type": "code",
   "execution_count": 33,
   "id": "e7a12512-1487-4397-bebf-b4d4a174b04e",
   "metadata": {},
   "outputs": [],
   "source": [
    "for i in range(48):\n",
    "    c.valves[i] = \"closed\"\n",
    "\n",
    "for i in range(48):\n",
    "    time.sleep(0.1)\n",
    "    c.valves[i] = \"open\""
   ]
  },
  {
   "cell_type": "code",
   "execution_count": 25,
   "id": "57640748-2734-417d-93e5-ebe369dce005",
   "metadata": {},
   "outputs": [],
   "source": [
    "c.z = 5000"
   ]
  },
  {
   "cell_type": "code",
   "execution_count": 32,
   "id": "f8e02188-1935-47cc-9a83-7cddc49ffda4",
   "metadata": {},
   "outputs": [],
   "source": [
    "c.valves[9] = \"closed\""
   ]
  },
  {
   "cell_type": "code",
   "execution_count": 102,
   "id": "91090b89-f9d7-4844-af62-c34cf501cb64",
   "metadata": {},
   "outputs": [],
   "source": [
    "layers[0].contrast_limits = [0, 65000]"
   ]
  },
  {
   "cell_type": "code",
   "execution_count": 103,
   "id": "6424f178-6827-42b5-ab45-467bf55debb0",
   "metadata": {},
   "outputs": [],
   "source": [
    "layers[1].contrast_limits = [0, 65000]"
   ]
  },
  {
   "cell_type": "code",
   "execution_count": 115,
   "id": "00b7a375-39ad-4d70-a37f-bc906a45da80",
   "metadata": {},
   "outputs": [
    {
     "data": {
      "text/plain": [
       "False"
      ]
     },
     "execution_count": 115,
     "metadata": {},
     "output_type": "execute_result"
    },
    {
     "name": "stdout",
     "output_type": "stream",
     "text": [
      "Error in device \"camera\":  Snap Image Failure (25)\n",
      "Error in device \"camera\":  Snap Image Failure (25)\n"
     ]
    }
   ],
   "source": [
    "c._core.isBufferOverflowed()"
   ]
  },
  {
   "cell_type": "code",
   "execution_count": 116,
   "id": "774871b5-65d1-4263-9e35-0026c6613efc",
   "metadata": {},
   "outputs": [
    {
     "data": {
      "text/plain": [
       "0"
      ]
     },
     "execution_count": 116,
     "metadata": {},
     "output_type": "execute_result"
    },
    {
     "name": "stdout",
     "output_type": "stream",
     "text": [
      "Error in device \"camera\":  Snap Image Failure (25)\n"
     ]
    }
   ],
   "source": [
    "c._core.getBufferTotalCapacity()"
   ]
  },
  {
   "cell_type": "code",
   "execution_count": 118,
   "id": "7356e4f7-9288-4a91-8204-bdd2eb907ab3",
   "metadata": {},
   "outputs": [
    {
     "data": {
      "text/plain": [
       "0"
      ]
     },
     "execution_count": 118,
     "metadata": {},
     "output_type": "execute_result"
    },
    {
     "name": "stdout",
     "output_type": "stream",
     "text": [
      "Error in device \"camera\":  Snap Image Failure (25)\n",
      "Error in device \"camera\":  Snap Image Failure (25)\n",
      "Error in device \"camera\":  Snap Image Failure (25)\n",
      "Error in device \"camera\":  Snap Image Failure (25)\n",
      "Error in device \"camera\":  Snap Image Failure (25)\n",
      "Error in device \"camera\":  Snap Image Failure (25)\n"
     ]
    }
   ],
   "source": [
    "c._core.getBufferFreeCapacity()"
   ]
  },
  {
   "cell_type": "code",
   "execution_count": 74,
   "id": "d3a81215-e7fc-4430-850b-cd9d79242372",
   "metadata": {},
   "outputs": [
    {
     "name": "stdout",
     "output_type": "stream",
     "text": [
      "[1 1 0 0]\n",
      "[0 0 1 1]\n"
     ]
    }
   ],
   "source": [
    "c.mux = \"open\""
   ]
  },
  {
   "cell_type": "code",
   "execution_count": 73,
   "id": "eb6b70a2-5a62-49e9-bdd0-9457ceca97fa",
   "metadata": {},
   "outputs": [
    {
     "name": "stdout",
     "output_type": "stream",
     "text": [
      "[0 0 0 0]\n",
      "[1 1 1 1]\n"
     ]
    }
   ],
   "source": [
    "c.mux = 3"
   ]
  },
  {
   "cell_type": "code",
   "execution_count": 63,
   "id": "2981822f-d558-456e-8852-7f58a744a928",
   "metadata": {},
   "outputs": [
    {
     "name": "stdout",
     "output_type": "stream",
     "text": [
      "[0 1 1 1]\n",
      "[1 0 0 0]\n",
      "[0 1 1 1]\n",
      "[1 0 0 0]\n"
     ]
    },
    {
     "data": {
      "text/plain": [
       "8"
      ]
     },
     "execution_count": 63,
     "metadata": {},
     "output_type": "execute_result"
    }
   ],
   "source": [
    "c.mux"
   ]
  },
  {
   "cell_type": "code",
   "execution_count": null,
   "id": "bf03bf1d-105b-4597-8a5f-545bddc13349",
   "metadata": {},
   "outputs": [],
   "source": []
  }
 ],
 "metadata": {
  "kernelspec": {
   "display_name": "Python 3 (ipykernel)",
   "language": "python",
   "name": "python3"
  },
  "language_info": {
   "codemirror_mode": {
    "name": "ipython",
    "version": 3
   },
   "file_extension": ".py",
   "mimetype": "text/x-python",
   "name": "python",
   "nbconvert_exporter": "python",
   "pygments_lexer": "ipython3",
   "version": "3.10.13"
  }
 },
 "nbformat": 4,
 "nbformat_minor": 5
}
