{
 "cells": [
  {
   "cell_type": "code",
   "execution_count": 6,
   "id": "f064d239-3eaa-4f7a-ad7b-e7934abfa1d8",
   "metadata": {},
   "outputs": [
    {
     "name": "stdout",
     "output_type": "stream",
     "text": [
      "The autoreload extension is already loaded. To reload it, use:\n",
      "  %reload_ext autoreload\n"
     ]
    }
   ],
   "source": [
    "%load_ext autoreload\n",
    "%autoreload 2\n",
    "from napari.qt.threading import thread_worker\n",
    "import control\n",
    "import napari\n",
    "import gui\n",
    "import time\n",
    "import numpy as np"
   ]
  },
  {
   "cell_type": "code",
   "execution_count": 12,
   "id": "ca9dd0a9-a818-4021-bed3-34a50dc80dbd",
   "metadata": {},
   "outputs": [],
   "source": [
    "config = {\n",
    "    \"camera\": {\n",
    "        \"device\": \"zyla_camera\"\n",
    "    },\n",
    "    \"objective\": {\n",
    "        \"device\": \"ti_objective\",\n",
    "        \"states\": [\"a\", \"b\", \"c\", \"d\", \"e\", \"f\"]\n",
    "    },\n",
    "    \"light\": {\n",
    "        \"device\": \"sola_light\",\n",
    "        \"port\": \"COM4\"\n",
    "    },\n",
    "    \"up_filter\": {\n",
    "        \"device\": \"ti_filter1\",\n",
    "        \"states\": [\"mcherry\", \"egfp\", \"open1\", \"cy5\", \"brightfield\", \"open2\"]\n",
    "    },\n",
    "    \"down_filter\": {\n",
    "        \"device\": \"ti_filter2\"\n",
    "    },\n",
    "    \"stage\": {\n",
    "        \"device\": \"asi_stage\",\n",
    "        \"port\": \"COM5\"\n",
    "    },\n",
    "    \"focus\": {\n",
    "        \"device\": \"ti_focus\"\n",
    "    },\n",
    "    \"lightpath\": {\n",
    "        \"device\": \"ti_lightpath\"\n",
    "    },\n",
    "    \"uv_filter\": {\n",
    "        \"device\": \"lambda_filter1\",\n",
    "        \"port\": \"COM3\",\n",
    "        \"states\": [\"uv\", \"open1\", \"filter-2\", \"315nm\", \"filter-4\", \"340nm\", \"filter-6\", \"open2\", \"filter-8\", \"brightfield\"],\n",
    "    },\n",
    "    \"right_filter\": {\n",
    "        \"device\": \"lambda_filter2\",\n",
    "        \"port\": \"COM3\",\n",
    "        \"states\": [\"open\", \"435\", \"474\", \"536\", \"546\", \"572\", \"620\", \"630\", \"650\", \"780\"],\n",
    "    },\n",
    "    \"laser\": {\n",
    "        \"device\": \"lambda_shutter1\",\n",
    "        \"port\": \"COM3\"\n",
    "    },\n",
    "    \"uv_shutter\": {\n",
    "        \"device\": \"lambda_shutter2\",\n",
    "        \"port\": \"COM3\"\n",
    "    },\n",
    "}\n",
    "c = control.load(config)\n",
    "c._core.setTimeoutMs(100000)\n",
    "c._core.setCameraDevice(\"camera\")\n",
    "c._core.setExposure(3)"
   ]
  },
  {
   "cell_type": "code",
   "execution_count": 13,
   "id": "eeb9380a-7a28-4d88-b566-5720ebd4114f",
   "metadata": {},
   "outputs": [],
   "source": [
    "viewer, worker = gui.live(c)"
   ]
  },
  {
   "cell_type": "code",
   "execution_count": 14,
   "id": "aae954b3-e200-49ec-9233-2c759c82ec9d",
   "metadata": {},
   "outputs": [],
   "source": [
    "top_left = c.xy"
   ]
  },
  {
   "cell_type": "code",
   "execution_count": 15,
   "id": "62db7cb8-238e-49bd-b295-d2c8dea501cc",
   "metadata": {},
   "outputs": [],
   "source": [
    "bottom_right = c.xy"
   ]
  },
  {
   "cell_type": "code",
   "execution_count": 16,
   "id": "5e8b2ed6-1e05-434a-9818-6547e49cc4c0",
   "metadata": {},
   "outputs": [],
   "source": [
    "top_channels = [\"open1\", \"open2\"]\n",
    "right_channels = [\"572\", \"620\"]"
   ]
  },
  {
   "cell_type": "code",
   "execution_count": 17,
   "id": "75b7a7e7-adac-4109-9f72-d495f04313d6",
   "metadata": {},
   "outputs": [],
   "source": [
    "overlap_pixels = 100\n",
    "um_per_pixel = 1.6137\n",
    "img = c.snap()\n",
    "img_height_pixels = img.shape[0]\n",
    "img_width_pixels = img.shape[1]\n",
    "img_height_um = um_per_pixel * img.shape[0]\n",
    "img_width_um = um_per_pixel * img.shape[1]\n",
    "overlap_um = overlap_pixels * um_per_pixel\n",
    "delta_x = img_width_um - overlap_um\n",
    "delta_y = img_height_um - overlap_um\n",
    "xs = np.arange(top_left[0], bottom_right[0], delta_x)\n",
    "ys = np.arange(top_left[1], bottom_right[1], delta_y)\n",
    "\n",
    "canvas = np.zeros((len(top_channels) + len(right_channels),\n",
    "                (img_height_pixels - overlap_pixels) * len(ys) + overlap_pixels,\n",
    "                (img_width_pixels - overlap_pixels) * len(xs) + overlap_pixels), dtype=np.uint16)\n",
    "viewer, layers = napari.imshow(canvas, channel_axis=0, contrast_limits=[0, 65535], name=top_channels + right_channels)\n",
    "def update_canvas(d):\n",
    "    d, i, j, c = d[0], d[1], d[2], d[3]\n",
    "    row = i * (img_height_pixels - overlap_pixels)\n",
    "    col = j * (img_width_pixels - overlap_pixels)\n",
    "    viewer.layers[c].data[row:row + img_height_pixels, col:col + img_width_pixels] = d\n",
    "    viewer.layers[c].refresh()\n",
    "\n",
    "@thread_worker(connect={\"yielded\": update_canvas})\n",
    "def tile_images():\n",
    "    c.uv_filter = \"uv\"\n",
    "    for i, y in enumerate(ys):\n",
    "        for j, x in enumerate(xs):\n",
    "            c.xy = (x, y)\n",
    "            c._core.waitForDevice(\"stage\")\n",
    "            c.right_filter = \"open\"\n",
    "            c.uv_shutter = \"closed\"\n",
    "            c.light = 100\n",
    "            c._core.setExposure(3)\n",
    "            time.sleep(3)\n",
    "            for channel in top_channels:\n",
    "                c.up_filter = channel\n",
    "                time.sleep(1)\n",
    "                yield (c.snap(), i, j, channel)\n",
    "                c._core.waitForDevice(\"camera\")\n",
    "                time.sleep(1)\n",
    "\n",
    "            c.up_filter = \"open1\"\n",
    "            c.uv_shutter = \"open\"\n",
    "            c._core.setExposure(3)\n",
    "            for channel in right_channels:\n",
    "                c.right_filter = channel\n",
    "                time.sleep(1)\n",
    "                yield (c.snap(), i, j, channel)\n",
    "                c._core.waitForDevice(\"camera\")\n",
    "                time.sleep(1)\n",
    "            time.sleep(1)"
   ]
  },
  {
   "cell_type": "code",
   "execution_count": 18,
   "id": "05ed226c-47a2-4656-9787-5d2e62c22935",
   "metadata": {},
   "outputs": [],
   "source": [
    "worker2 = tile_images()"
   ]
  },
  {
   "cell_type": "code",
   "execution_count": 19,
   "id": "0040ea4e-9be7-4bfa-9234-1cd38cb7aed9",
   "metadata": {},
   "outputs": [],
   "source": [
    "worker2.quit()"
   ]
  },
  {
   "cell_type": "code",
   "execution_count": 11,
   "id": "b6433c05-4806-40e7-8097-61dae4dac9a3",
   "metadata": {},
   "outputs": [],
   "source": [
    "c.close()"
   ]
  },
  {
   "cell_type": "code",
   "execution_count": 8,
   "id": "5f25620c-b133-49c2-ab45-19af40d14438",
   "metadata": {},
   "outputs": [],
   "source": []
  },
  {
   "cell_type": "code",
   "execution_count": null,
   "id": "b796e34e-8ce3-4c9f-a3e7-4911b63c618b",
   "metadata": {},
   "outputs": [],
   "source": []
  }
 ],
 "metadata": {
  "kernelspec": {
   "display_name": "Python 3 (ipykernel)",
   "language": "python",
   "name": "python3"
  },
  "language_info": {
   "codemirror_mode": {
    "name": "ipython",
    "version": 3
   },
   "file_extension": ".py",
   "mimetype": "text/x-python",
   "name": "python",
   "nbconvert_exporter": "python",
   "pygments_lexer": "ipython3",
   "version": "3.10.13"
  }
 },
 "nbformat": 4,
 "nbformat_minor": 5
}
