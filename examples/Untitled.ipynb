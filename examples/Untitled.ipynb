{
 "cells": [
  {
   "cell_type": "code",
   "execution_count": 1,
   "id": "53b09600-da17-4451-9be6-f1c52f66cf26",
   "metadata": {},
   "outputs": [
    {
     "name": "stdout",
     "output_type": "stream",
     "text": [
      "The autoreload extension is already loaded. To reload it, use:\n",
      "  %reload_ext autoreload\n"
     ]
    }
   ],
   "source": [
    "%load_ext autoreload\n",
    "%autoreload 2\n",
    "from napari.qt.threading import thread_worker\n",
    "import control\n",
    "import napari\n",
    "import gui\n",
    "import time\n",
    "import numpy as np\n",
    "import toml\n",
    "\n",
    "s = \"\"\"\n",
    "[camera]\n",
    "device = \"demo_camera\"\n",
    "\"\"\"\n",
    "\n",
    "conf = toml.loads(s)\n",
    "c = control.load(conf, path=\"/usr/local/lib/micro-manager\")\n",
    "c._core.setTimeoutMs(100000)\n",
    "c.exposure = 100"
   ]
  },
  {
   "cell_type": "code",
   "execution_count": 3,
   "id": "0f9d527a-8401-48b8-9029-983e05f86567",
   "metadata": {},
   "outputs": [
    {
     "data": {
      "text/plain": [
       "(Viewer(camera=Camera(center=(0.0, 255.5, 255.5), zoom=2.3034913980836236, angles=(0.0, 0.0, 90.0), perspective=0.0, mouse_pan=True, mouse_zoom=True), cursor=Cursor(position=(1.0, 1.0), scaled=True, size=1, style=<CursorStyle.STANDARD: 'standard'>), dims=Dims(ndim=2, ndisplay=2, last_used=0, range=((0.0, 512.0, 1.0), (0.0, 512.0, 1.0)), current_step=(255, 255), order=(0, 1), axis_labels=('0', '1')), grid=GridCanvas(stride=1, shape=(-1, -1), enabled=False), layers=[<Image layer 'Image' at 0x7158803c64d0>], help='use <2> for transform', status='Ready', tooltip=Tooltip(visible=False, text=''), theme='dark', title='napari', mouse_over_canvas=False, mouse_move_callbacks=[], mouse_drag_callbacks=[], mouse_double_click_callbacks=[], mouse_wheel_callbacks=[<function dims_scroll at 0x7158c8887640>], _persisted_mouse_event={}, _mouse_drag_gen={}, _mouse_wheel_gen={}, keymap={}),\n",
       " <Image layer 'Image' at 0x7158803c64d0>)"
      ]
     },
     "execution_count": 3,
     "metadata": {},
     "output_type": "execute_result"
    }
   ],
   "source": [
    "napari.imshow(c.snap())"
   ]
  },
  {
   "cell_type": "code",
   "execution_count": 5,
   "id": "d55eb394-b2e5-4623-88c6-45617694d5f9",
   "metadata": {},
   "outputs": [],
   "source": [
    "t.quit()"
   ]
  },
  {
   "cell_type": "code",
   "execution_count": 2,
   "id": "00b70bdc-69d9-4a99-ac50-cd522cf00408",
   "metadata": {},
   "outputs": [],
   "source": [
    "t = gui.live(c)"
   ]
  },
  {
   "cell_type": "code",
   "execution_count": 3,
   "id": "54a1d9b7-c74f-4f00-a644-ae8a6480d8ad",
   "metadata": {},
   "outputs": [
    {
     "data": {
      "text/plain": [
       "<gui.GUI at 0x74912c06f160>"
      ]
     },
     "execution_count": 3,
     "metadata": {},
     "output_type": "execute_result"
    }
   ],
   "source": [
    "t"
   ]
  },
  {
   "cell_type": "code",
   "execution_count": 4,
   "id": "9f0b6476-428e-4d6d-aee5-df40c22ca2f9",
   "metadata": {},
   "outputs": [
    {
     "name": "stderr",
     "output_type": "stream",
     "text": [
      "Process SpawnProcess-1:\n",
      "Traceback (most recent call last):\n",
      "  File \"/home/karlk/.bin/mambaforge/lib/python3.10/site-packages/multiprocess/process.py\", line 314, in _bootstrap\n",
      "    self.run()\n",
      "  File \"/home/karlk/.bin/mambaforge/lib/python3.10/site-packages/multiprocess/process.py\", line 108, in run\n",
      "    self._target(*self._args, **self._kwargs)\n",
      "  File \"/home/karlk/repos/prismo/src/prismo/gui.py\", line 57, in run_gui\n",
      "    receiver.quit()\n",
      "NameError: name 'receiver' is not defined\n",
      "Exception in thread Thread-5 (run_router):\n",
      "Traceback (most recent call last):\n",
      "  File \"/home/karlk/.bin/mambaforge/lib/python3.10/threading.py\", line 1016, in _bootstrap_inner\n",
      "    self.run()\n",
      "  File \"/home/karlk/.bin/mambaforge/lib/python3.10/threading.py\", line 953, in run\n",
      "    self._target(*self._args, **self._kwargs)\n",
      "  File \"/home/karlk/repos/prismo/src/prismo/gui.py\", line 64, in run_router\n",
      "    route, args, kwargs = pipe.recv()\n",
      "  File \"/home/karlk/.bin/mambaforge/lib/python3.10/site-packages/multiprocess/connection.py\", line 253, in recv\n",
      "    buf = self._recv_bytes()\n",
      "  File \"/home/karlk/.bin/mambaforge/lib/python3.10/site-packages/multiprocess/connection.py\", line 417, in _recv_bytes\n",
      "    buf = self._recv(4)\n",
      "  File \"/home/karlk/.bin/mambaforge/lib/python3.10/site-packages/multiprocess/connection.py\", line 386, in _recv\n",
      "    raise EOFError\n",
      "EOFError\n"
     ]
    }
   ],
   "source": [
    "c.exposure = 10"
   ]
  },
  {
   "cell_type": "code",
   "execution_count": null,
   "id": "feb3e116-71d1-453e-88df-c321502ceb9c",
   "metadata": {},
   "outputs": [],
   "source": []
  }
 ],
 "metadata": {
  "kernelspec": {
   "display_name": "Python 3 (ipykernel)",
   "language": "python",
   "name": "python3"
  },
  "language_info": {
   "codemirror_mode": {
    "name": "ipython",
    "version": 3
   },
   "file_extension": ".py",
   "mimetype": "text/x-python",
   "name": "python",
   "nbconvert_exporter": "python",
   "pygments_lexer": "ipython3",
   "version": "3.10.9"
  }
 },
 "nbformat": 4,
 "nbformat_minor": 5
}
